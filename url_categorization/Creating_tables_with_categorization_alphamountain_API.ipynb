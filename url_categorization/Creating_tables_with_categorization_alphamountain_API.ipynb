{
 "cells": [
  {
   "cell_type": "markdown",
   "id": "0ce5c931",
   "metadata": {},
   "source": [
    "Этот файл описывает процесс преобразования данных для работы с сервисом AlphaMountain, который использует числовые коды вместо текстовых категорий. Коды категорий используются как ключи для соединения с таблицей, содержащей информацию о категориях.\n"
   ]
  },
  {
   "cell_type": "markdown",
   "id": "3aefba56",
   "metadata": {},
   "source": [
    "1. Загрузка данных\n",
    "Загружаются два файла: categorized_new_url_task_2_final_4.csv, который содержит URL-адреса, и am_mapping.csv, в котором хранится информация о категориях. Для этого используется библиотека pandas.\n",
    "\n",
    "2. Переименование столбцов\n",
    "В таблице категорий переименовываются столбцы. Столбцы id и name переименовываются в Category_Code_1, alpha_1 и Category_Code_2, alpha_2. Это необходимо для того, чтобы привести данные к нужному формату перед их объединением.\n",
    "\n",
    "3. Извлечение категорий\n",
    "Функция extract_category_codes извлекает список категорий для каждого URL. Эти данные содержатся в столбце Category. Если формат данных неправильный, функция возвращает пустой список.\n",
    "\n",
    "4. Создание новых столбцов\n",
    "Для каждого значения в списке категорий создаются новые столбцы, которые соответствуют отдельным категориям. Если категория отсутствует, в соответствующем столбце будет установлено значение None.\n",
    "\n",
    "5. Объединение данных\n",
    "После того как столбцы категорий были созданы, таблица results_month_api объединяется с таблицей category_api_v_1 и category_api_v_2 по соответствующим категориям, что позволяет добавить информацию о названиях категорий в исходные данные.\n",
    "\n",
    "6. Сохранение результатов\n",
    "Итоговые данные сохраняются в новый файл категоризация alpha_4.csv, который содержит URL-адреса и соответствующие им категории."
   ]
  },
  {
   "cell_type": "markdown",
   "id": "198e398a",
   "metadata": {},
   "source": [
    "1. Загрузка библиотек"
   ]
  },
  {
   "cell_type": "code",
   "execution_count": 1,
   "id": "97f6f34f",
   "metadata": {},
   "outputs": [],
   "source": [
    "import pandas as pd"
   ]
  },
  {
   "cell_type": "markdown",
   "id": "303c1d17",
   "metadata": {},
   "source": [
    "2. Выгрузка данных"
   ]
  },
  {
   "cell_type": "code",
   "execution_count": 2,
   "id": "bccacf98",
   "metadata": {},
   "outputs": [],
   "source": [
    "results_month_api = pd.read_csv('categorized_new_url_task_2_final_4.csv')"
   ]
  },
  {
   "cell_type": "code",
   "execution_count": 3,
   "id": "49393899",
   "metadata": {},
   "outputs": [],
   "source": [
    "category_api = pd.read_csv('am_mapping.csv')"
   ]
  },
  {
   "cell_type": "markdown",
   "id": "0c4eb74a",
   "metadata": {},
   "source": [
    "3. Предобработка данных "
   ]
  },
  {
   "cell_type": "code",
   "execution_count": 5,
   "id": "e6bdbb0a",
   "metadata": {},
   "outputs": [],
   "source": [
    "# Переименование колонок сразу в двух DataFrame в две строки\n",
    "category_api_v_1 = category_api.rename(columns={'id': 'Category_Code_1', 'name': 'alpha_1'})\n",
    "category_api_v_2 = category_api.rename(columns={'id': 'Category_Code_2', 'name': 'alpha_2'})"
   ]
  },
  {
   "cell_type": "code",
   "execution_count": null,
   "id": "a0710d61",
   "metadata": {},
   "outputs": [],
   "source": [
    "4. Извлечение категорий"
   ]
  },
  {
   "cell_type": "markdown",
   "id": "a7cd0cc0",
   "metadata": {},
   "source": [
    "Этот код извлекает категории из столбца Category в таблице results_month_api, применяя функцию для преобразования строкового представления категорий в список. Затем для каждой категории создаются новые столбцы с уникальными кодами, соответствующими каждому URL. После этого результат выводится для проверки, а итоговые данные могут быть сохранены в новый файл, если необходимо."
   ]
  },
  {
   "cell_type": "code",
   "execution_count": 6,
   "id": "fbc60f7d",
   "metadata": {},
   "outputs": [
    {
     "name": "stdout",
     "output_type": "stream",
     "text": [
      "                             url  \\\n",
      "0                www.tiktokv.com   \n",
      "1                     www.com.co   \n",
      "2  www.find-packing-services.com   \n",
      "3           www.tradedoubler.com   \n",
      "4                www.mozilla.net   \n",
      "\n",
      "                                            Category  Category_Code_1  \\\n",
      "0  {'version': 1, 'status': {'category': 'Success...               18   \n",
      "1  {'version': 1, 'status': {'category': 'Success...               39   \n",
      "2  {'version': 1, 'status': {'category': 'Success...                0   \n",
      "3  {'version': 1, 'status': {'category': 'Success...                2   \n",
      "4  {'version': 1, 'status': {'category': 'Success...               34   \n",
      "\n",
      "   Category_Code_2  Category_Code_3  \n",
      "0             67.0             79.0  \n",
      "1              NaN              NaN  \n",
      "2              NaN              NaN  \n",
      "3              9.0             34.0  \n",
      "4              NaN              NaN  \n"
     ]
    }
   ],
   "source": [
    "# Функция для извлечения всех значений категории\n",
    "def extract_category_codes(category_data):\n",
    "    try:\n",
    "        # Преобразуем строку в словарь, если это строка\n",
    "        if isinstance(category_data, str):\n",
    "            category_data = eval(category_data)\n",
    "        # Получаем список категорий\n",
    "        categories = category_data.get('category', {}).get('categories', [])\n",
    "        return categories\n",
    "    except (AttributeError, TypeError):\n",
    "        return []  # Возвращаем пустой список, если формат данных не соответствует ожиданиям\n",
    "\n",
    "# Применение функции к столбцу Category и создание новых столбцов для каждого значения\n",
    "category_codes = results_month_api['Category'].apply(extract_category_codes)\n",
    "\n",
    "# Создание новых столбцов в зависимости от количества категорий\n",
    "for i in range(category_codes.str.len().max()):\n",
    "    results_month_api[f'Category_Code_{i+1}'] = category_codes.apply(lambda x: x[i] if i < len(x) else None)\n",
    "\n",
    "# Проверка результата\n",
    "print(results_month_api[['url', 'Category'] + [f'Category_Code_{i+1}' for i in range(category_codes.str.len().max())]].head())\n",
    "\n",
    "# Сохранение в новый файл (при необходимости)\n",
    "# results_month_api.to_csv('results_month_api_with_codes.csv', index=False)\n"
   ]
  },
  {
   "cell_type": "markdown",
   "id": "a47bcfa5",
   "metadata": {},
   "source": [
    "Этот код выполняет слияние таблиц: сначала таблица results_month_api объединяется с таблицей category_api_v_1 по столбцу Category_Code_1 с использованием левого соединения (left join), а затем результат объединяется с таблицей category_api_v_2 по столбцу Category_Code_2, также с левым соединением. Это позволяет добавить соответствующие данные из таблиц категорий в таблицу с результатами."
   ]
  },
  {
   "cell_type": "code",
   "execution_count": 7,
   "id": "fab085cb",
   "metadata": {},
   "outputs": [],
   "source": [
    "results_month_api_temp = results_month_api.merge(category_api_v_1, on = 'Category_Code_1', how = 'left')\n",
    "results = results_month_api_temp.merge(category_api_v_2, on = 'Category_Code_2', how = 'left')\n"
   ]
  },
  {
   "cell_type": "code",
   "execution_count": 8,
   "id": "1335f092",
   "metadata": {},
   "outputs": [],
   "source": [
    "results = results[['url', 'alpha_1','alpha_2']]"
   ]
  },
  {
   "cell_type": "code",
   "execution_count": 9,
   "id": "fe036711",
   "metadata": {},
   "outputs": [],
   "source": [
    "results.to_csv('категоризация alpha_4.csv', index=False)"
   ]
  },
  {
   "cell_type": "code",
   "execution_count": 10,
   "id": "a52ddf16",
   "metadata": {},
   "outputs": [
    {
     "data": {
      "text/html": [
       "<div>\n",
       "<style scoped>\n",
       "    .dataframe tbody tr th:only-of-type {\n",
       "        vertical-align: middle;\n",
       "    }\n",
       "\n",
       "    .dataframe tbody tr th {\n",
       "        vertical-align: top;\n",
       "    }\n",
       "\n",
       "    .dataframe thead th {\n",
       "        text-align: right;\n",
       "    }\n",
       "</style>\n",
       "<table border=\"1\" class=\"dataframe\">\n",
       "  <thead>\n",
       "    <tr style=\"text-align: right;\">\n",
       "      <th></th>\n",
       "      <th>url</th>\n",
       "      <th>alpha_1</th>\n",
       "      <th>alpha_2</th>\n",
       "    </tr>\n",
       "  </thead>\n",
       "  <tbody>\n",
       "    <tr>\n",
       "      <th>0</th>\n",
       "      <td>www.tiktokv.com</td>\n",
       "      <td>Entertainment</td>\n",
       "      <td>Social Networking</td>\n",
       "    </tr>\n",
       "    <tr>\n",
       "      <th>1</th>\n",
       "      <td>www.com.co</td>\n",
       "      <td>Malicious</td>\n",
       "      <td>NaN</td>\n",
       "    </tr>\n",
       "    <tr>\n",
       "      <th>2</th>\n",
       "      <td>www.find-packing-services.com</td>\n",
       "      <td>Unrated</td>\n",
       "      <td>NaN</td>\n",
       "    </tr>\n",
       "    <tr>\n",
       "      <th>3</th>\n",
       "      <td>www.tradedoubler.com</td>\n",
       "      <td>Ads/Analytics</td>\n",
       "      <td>Business/Economy</td>\n",
       "    </tr>\n",
       "    <tr>\n",
       "      <th>4</th>\n",
       "      <td>www.mozilla.net</td>\n",
       "      <td>Information Technology</td>\n",
       "      <td>NaN</td>\n",
       "    </tr>\n",
       "    <tr>\n",
       "      <th>...</th>\n",
       "      <td>...</td>\n",
       "      <td>...</td>\n",
       "      <td>...</td>\n",
       "    </tr>\n",
       "    <tr>\n",
       "      <th>429</th>\n",
       "      <td>www.lordfilm.art</td>\n",
       "      <td>Unrated</td>\n",
       "      <td>NaN</td>\n",
       "    </tr>\n",
       "    <tr>\n",
       "      <th>430</th>\n",
       "      <td>www.vega-factory.ru</td>\n",
       "      <td>Business/Economy</td>\n",
       "      <td>NaN</td>\n",
       "    </tr>\n",
       "    <tr>\n",
       "      <th>431</th>\n",
       "      <td>23.227.151.122</td>\n",
       "      <td>Information Technology</td>\n",
       "      <td>NaN</td>\n",
       "    </tr>\n",
       "    <tr>\n",
       "      <th>432</th>\n",
       "      <td>www.championat.com</td>\n",
       "      <td>Sports</td>\n",
       "      <td>NaN</td>\n",
       "    </tr>\n",
       "    <tr>\n",
       "      <th>433</th>\n",
       "      <td>www.datadoghq.com</td>\n",
       "      <td>Information Technology</td>\n",
       "      <td>NaN</td>\n",
       "    </tr>\n",
       "  </tbody>\n",
       "</table>\n",
       "<p>434 rows × 3 columns</p>\n",
       "</div>"
      ],
      "text/plain": [
       "                               url                 alpha_1            alpha_2\n",
       "0                  www.tiktokv.com           Entertainment  Social Networking\n",
       "1                       www.com.co               Malicious                NaN\n",
       "2    www.find-packing-services.com                 Unrated                NaN\n",
       "3             www.tradedoubler.com           Ads/Analytics   Business/Economy\n",
       "4                  www.mozilla.net  Information Technology                NaN\n",
       "..                             ...                     ...                ...\n",
       "429               www.lordfilm.art                 Unrated                NaN\n",
       "430            www.vega-factory.ru        Business/Economy                NaN\n",
       "431                 23.227.151.122  Information Technology                NaN\n",
       "432             www.championat.com                  Sports                NaN\n",
       "433              www.datadoghq.com  Information Technology                NaN\n",
       "\n",
       "[434 rows x 3 columns]"
      ]
     },
     "execution_count": 10,
     "metadata": {},
     "output_type": "execute_result"
    }
   ],
   "source": [
    "results"
   ]
  },
  {
   "cell_type": "markdown",
   "id": "1bb2f7cc",
   "metadata": {},
   "source": [
    "В результате выполнения кода создается таблица, которая включает информацию о URL-адресах, а также категории, полученные из исходных данных с использованием кодов категорий. В новой таблице объединяются значения из столбцов Category_Code_1 и Category_Code_2 с соответствующими категориями из таблицы category_api_v_1 и category_api_v_2. Этот процесс позволяет более детально классифицировать данные и подготовить их для дальнейшего анализа или использования в других системах. Итоговая таблица сохраняется в файл, который можно использовать для дальнейшей обработки или отчетности."
   ]
  }
 ],
 "metadata": {
  "kernelspec": {
   "display_name": "Python 3 (ipykernel)",
   "language": "python",
   "name": "python3"
  },
  "language_info": {
   "codemirror_mode": {
    "name": "ipython",
    "version": 3
   },
   "file_extension": ".py",
   "mimetype": "text/x-python",
   "name": "python",
   "nbconvert_exporter": "python",
   "pygments_lexer": "ipython3",
   "version": "3.11.5"
  }
 },
 "nbformat": 4,
 "nbformat_minor": 5
}
