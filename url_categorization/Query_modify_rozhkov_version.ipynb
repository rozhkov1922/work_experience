{
 "cells": [
  {
   "cell_type": "markdown",
   "id": "d6f0f77f",
   "metadata": {},
   "source": [
    "Этот код используется для составления SQL-запроса, который позволяет оценить процент сайтов, попадающих в заранее определенные категории, используя данные, полученные с помощью указанных сервисов. Запрос формирует условия для классификации доменов по категориям, сравнивая значения в столбце req_host с регулярными выражениями, связанными с каждой категорией. Статистика по категориям помогает оценить, насколько эффективно проделанная работа по категоризации позволяет в будущем классифицировать сайты с использованием этого запроса. Код включает в себя агрегацию данных по категориям, генерацию SQL-запроса и вывод результата для анализа."
   ]
  },
  {
   "cell_type": "markdown",
   "id": "987b57a9",
   "metadata": {},
   "source": [
    "1. Загрузка библиотек: Импортируются необходимые библиотеки для работы с данными (pandas), обработки паролей (getpass), работы с операционной системой (os), а также для работы с JSON и строками (json, ast).\n",
    "\n",
    "2. Выгрузка данных: Загружается CSV файл combined_hosts_with_fixed_regex_v4.csv в DataFrame df_reg. Далее с помощью метода value_counts() подсчитываются уникальные значения в столбце 'cat_popular'.\n",
    "\n",
    "3. Агрегация данных: Данные группируются по столбцу 'cat_popular', и для каждой категории собираются соответствующие значения из столбца 'url_regex_mod' в виде списка. Результат сохраняется в новый DataFrame df_reg_unite.\n",
    "\n",
    "4. Формирование SQL запроса: Создается строка SQL-запроса, начиная с подзапроса, в котором создаются условия для классификации req_host по категориям. Для каждой категории из DataFrame df_reg_unite формируются условия WHEN для функции match(), которая проверяет соответствие доменов в req_host. Если совпадение найдено, то присваивается соответствующая категория.\n",
    "\n",
    "5. Заполнение и завершение строки запроса: Для каждой категории добавляются строки с условиями WHEN, где домены (из списка в df_reg_unite) добавляются с помощью метода join(). Результирующая строка расширяется с каждым условием и завершается дополнительными операциями, такими как фильтрация по дате и времени, а также групировка и сортировка по категориям. Запрос выводится в консоль с помощью print()."
   ]
  },
  {
   "cell_type": "markdown",
   "id": "bf162df9",
   "metadata": {},
   "source": [
    "1. Загрузка библиотек"
   ]
  },
  {
   "cell_type": "code",
   "execution_count": 1,
   "id": "7291c3ae",
   "metadata": {
    "ExecuteTime": {
     "end_time": "2024-10-07T17:17:31.975046Z",
     "start_time": "2024-10-07T17:17:31.784680Z"
    },
    "is_executing": true
   },
   "outputs": [],
   "source": [
    "import pandas as pd\n",
    "import getpass\n",
    "import os\n",
    "import json\n",
    "import ast"
   ]
  },
  {
   "cell_type": "markdown",
   "id": "3553e6f5",
   "metadata": {},
   "source": [
    "2. Выгрузка данных"
   ]
  },
  {
   "cell_type": "code",
   "execution_count": 2,
   "id": "4b9dfae3",
   "metadata": {
    "ExecuteTime": {
     "end_time": "2024-10-08T06:19:23.831843Z",
     "start_time": "2024-10-08T06:19:23.690331Z"
    }
   },
   "outputs": [],
   "source": [
    "df_reg = pd.read_csv('combined_hosts_with_fixed_regex_v40.csv')\n"
   ]
  },
  {
   "cell_type": "markdown",
   "id": "fd420d40",
   "metadata": {},
   "source": [
    "3. Агрегация данных"
   ]
  },
  {
   "cell_type": "code",
   "execution_count": 3,
   "id": "a9bea2ea",
   "metadata": {
    "ExecuteTime": {
     "end_time": "2024-10-08T06:19:27.522004Z",
     "start_time": "2024-10-08T06:19:27.501975Z"
    }
   },
   "outputs": [
    {
     "data": {
      "text/html": [
       "<div>\n",
       "<style scoped>\n",
       "    .dataframe tbody tr th:only-of-type {\n",
       "        vertical-align: middle;\n",
       "    }\n",
       "\n",
       "    .dataframe tbody tr th {\n",
       "        vertical-align: top;\n",
       "    }\n",
       "\n",
       "    .dataframe thead th {\n",
       "        text-align: right;\n",
       "    }\n",
       "</style>\n",
       "<table border=\"1\" class=\"dataframe\">\n",
       "  <thead>\n",
       "    <tr style=\"text-align: right;\">\n",
       "      <th></th>\n",
       "      <th>cat_popular</th>\n",
       "      <th>url_regex_mod</th>\n",
       "    </tr>\n",
       "  </thead>\n",
       "  <tbody>\n",
       "    <tr>\n",
       "      <th>0</th>\n",
       "      <td>Advertisements.</td>\n",
       "      <td>[^([\\w-]+\\.)*(www\\.)?mxptint\\.(net)$, ^([\\w-]+...</td>\n",
       "    </tr>\n",
       "    <tr>\n",
       "      <th>1</th>\n",
       "      <td>Business/Economy (alphaMountain.ai)</td>\n",
       "      <td>[^([\\w-]+\\.)*(www\\.)?xn--80aebkobnwfcnsfk1e0h\\...</td>\n",
       "    </tr>\n",
       "    <tr>\n",
       "      <th>2</th>\n",
       "      <td>Malicious (alphaMountain.ai)</td>\n",
       "      <td>[34.160.111.145]</td>\n",
       "    </tr>\n",
       "    <tr>\n",
       "      <th>3</th>\n",
       "      <td>Phishing and Other Frauds</td>\n",
       "      <td>[^([\\w-]+\\.)*(www\\.)?dolphin-anty-mirror\\.(org)$]</td>\n",
       "    </tr>\n",
       "    <tr>\n",
       "      <th>4</th>\n",
       "      <td>Suspicious (alphaMountain.ai)</td>\n",
       "      <td>[146.190.27.215]</td>\n",
       "    </tr>\n",
       "    <tr>\n",
       "      <th>...</th>\n",
       "      <td>...</td>\n",
       "      <td>...</td>\n",
       "    </tr>\n",
       "    <tr>\n",
       "      <th>174</th>\n",
       "      <td>web analytics</td>\n",
       "      <td>[^([\\w-]+\\.)*(www\\.)?digitaltarget\\.(ru)$, 87....</td>\n",
       "    </tr>\n",
       "    <tr>\n",
       "      <th>175</th>\n",
       "      <td>web hosting</td>\n",
       "      <td>[^([\\w-]+\\.)*(www\\.)?com\\.(ua)$, ^([\\w-]+\\.)*(...</td>\n",
       "    </tr>\n",
       "    <tr>\n",
       "      <th>176</th>\n",
       "      <td>web infrastructure</td>\n",
       "      <td>[^([\\w-]+\\.)*(www\\.)?kimberlite\\.(io)$, ^([\\w-...</td>\n",
       "    </tr>\n",
       "    <tr>\n",
       "      <th>177</th>\n",
       "      <td>webmail</td>\n",
       "      <td>[^([\\w-]+\\.)*(www\\.)?mail\\.(ru)$, ^([\\w-]+\\.)*...</td>\n",
       "    </tr>\n",
       "    <tr>\n",
       "      <th>178</th>\n",
       "      <td>website tools</td>\n",
       "      <td>[^([\\w-]+\\.)*(www\\.)?wixapps\\.(net)$]</td>\n",
       "    </tr>\n",
       "  </tbody>\n",
       "</table>\n",
       "<p>179 rows × 2 columns</p>\n",
       "</div>"
      ],
      "text/plain": [
       "                             cat_popular  \\\n",
       "0                        Advertisements.   \n",
       "1    Business/Economy (alphaMountain.ai)   \n",
       "2           Malicious (alphaMountain.ai)   \n",
       "3              Phishing and Other Frauds   \n",
       "4          Suspicious (alphaMountain.ai)   \n",
       "..                                   ...   \n",
       "174                        web analytics   \n",
       "175                          web hosting   \n",
       "176                   web infrastructure   \n",
       "177                              webmail   \n",
       "178                        website tools   \n",
       "\n",
       "                                         url_regex_mod  \n",
       "0    [^([\\w-]+\\.)*(www\\.)?mxptint\\.(net)$, ^([\\w-]+...  \n",
       "1    [^([\\w-]+\\.)*(www\\.)?xn--80aebkobnwfcnsfk1e0h\\...  \n",
       "2                                     [34.160.111.145]  \n",
       "3    [^([\\w-]+\\.)*(www\\.)?dolphin-anty-mirror\\.(org)$]  \n",
       "4                                     [146.190.27.215]  \n",
       "..                                                 ...  \n",
       "174  [^([\\w-]+\\.)*(www\\.)?digitaltarget\\.(ru)$, 87....  \n",
       "175  [^([\\w-]+\\.)*(www\\.)?com\\.(ua)$, ^([\\w-]+\\.)*(...  \n",
       "176  [^([\\w-]+\\.)*(www\\.)?kimberlite\\.(io)$, ^([\\w-...  \n",
       "177  [^([\\w-]+\\.)*(www\\.)?mail\\.(ru)$, ^([\\w-]+\\.)*...  \n",
       "178              [^([\\w-]+\\.)*(www\\.)?wixapps\\.(net)$]  \n",
       "\n",
       "[179 rows x 2 columns]"
      ]
     },
     "execution_count": 3,
     "metadata": {},
     "output_type": "execute_result"
    }
   ],
   "source": [
    "df_reg_unite = df_reg.groupby('cat_popular').agg(\n",
    "    {'url_regex_mod': list}\n",
    ").reset_index()\n",
    "df_reg_unite"
   ]
  },
  {
   "cell_type": "markdown",
   "id": "550784f4",
   "metadata": {},
   "source": [
    "4. Формирование SQL запроса:"
   ]
  },
  {
   "cell_type": "code",
   "execution_count": 4,
   "id": "dd67a6bd",
   "metadata": {
    "ExecuteTime": {
     "end_time": "2024-10-07T18:11:38.772728Z",
     "start_time": "2024-10-07T18:11:38.766077Z"
    },
    "scrolled": true
   },
   "outputs": [],
   "source": [
    "string = '''with a as (\n",
    "\tselect\n",
    "\t\tcn, \n",
    "\t\tproxy_ip,\n",
    "\t\tproxy_port,\n",
    "\t\tts_millis,\n",
    "\t\tproxy_service, --group\n",
    "\t\terror, --count\n",
    "\t\ttx_bytes, --sum\n",
    "\t\trx_bytes, --sum\n",
    "\t\treq_host, --count(distinct)\n",
    "        CASE \\n'''\n",
    "\n",
    "\n",
    "for cat, regs in df_reg_unite.values:\n",
    "    string += \"\\t\\t\\tWHEN match(req_host, '\"\n",
    "    string += \"') +\\n\\t\\t\\t\\t match(req_host, '\".join(regs)\n",
    "    string += f\"') > 0 THEN '{cat}'\\n\"\n",
    "    \n",
    "string += \"\"\"\t\tELSE 'other' END req_category2\n",
    "        from -- ваша база данных \n",
    "\t\twhere 1=1\n",
    "\t\t\tand toYYYYMM(ts_millis) = toYYYYMM(toDate('2021-09-18'))\n",
    "\t\t\tand ts_millis > toDateTime('2021-09-18') \n",
    "\t\t\tand ts_millis <= addHours(toDateTime('2021-09-18'), 24)\n",
    ")\n",
    "select \n",
    "\treq_category2,\n",
    "\tcount(*) as cnt\n",
    "from a\n",
    "group by \n",
    "\treq_category2\n",
    "order by \n",
    "\tcnt desc\n",
    "\"\"\""
   ]
  },
  {
   "cell_type": "markdown",
   "id": "436a46f3",
   "metadata": {},
   "source": [
    "5. Заполнение строки запроса и завершение запроса "
   ]
  },
  {
   "cell_type": "markdown",
   "id": "898f3509",
   "metadata": {},
   "source": [
    "Этот код я использую для запроса в clickhouse. На основе полученного результата запроса, смотрю, сколько процентов занимает категория others"
   ]
  },
  {
   "cell_type": "code",
   "execution_count": 5,
   "id": "07dc6818",
   "metadata": {
    "ExecuteTime": {
     "end_time": "2024-10-08T06:26:49.216620Z",
     "start_time": "2024-10-08T06:26:49.201651Z"
    },
    "scrolled": true
   },
   "outputs": [],
   "source": [
    "string = '''with a as (\n",
    "    select\n",
    "        cn, \n",
    "        proxy_ip,\n",
    "        proxy_port,\n",
    "        ts_millis,\n",
    "        proxy_service, --group\n",
    "        error, --count\n",
    "        tx_bytes, --sum\n",
    "        rx_bytes, --sum\n",
    "        req_host, --count(distinct)\n",
    "        CASE \\n'''\n",
    "\n",
    "\n",
    "for cat, regs in df_reg_unite.values:\n",
    "    string += f\"{' '*12}WHEN multiMatchAny(req_host, [\\n{' '*16}'\"\n",
    "    string += f\"',\\n{' '*16}'\".join(regs)\n",
    "    string += f\"'\\n{' '*12}]) > 0 THEN '{cat}'\\n\"\n",
    "    \n",
    "string += \"\"\"        ELSE 'other' END req_category2\n",
    "        from ваша база данных \n",
    "        where 1=1\n",
    "            and toYYYYMM(ts_millis) = toYYYYMM(toDate('2021-09-18'))\n",
    "            and ts_millis > toDateTime('2021-09-18') \n",
    "            and ts_millis <= addHours(toDateTime('2021-09-18'), 24)\n",
    ")\n",
    "select \n",
    "    req_category2,\n",
    "    count(*) as cnt\n",
    "from a\n",
    "group by \n",
    "    req_category2\n",
    "order by \n",
    "    cnt desc\n",
    "\"\"\"\n",
    "#print(string)"
   ]
  },
  {
   "cell_type": "markdown",
   "id": "8002929c",
   "metadata": {},
   "source": [
    "1. Загрузка библиотек: Библиотеки, необходимые для работы с данными и операциями с паролями, операционной системой, JSON и строками, были успешно импортированы. Это обеспечило необходимую функциональность для дальнейшей обработки данных.\n",
    "\n",
    "2. Выгрузка данных: Данные из CSV файла combined_hosts_with_fixed_regex_v4.csv были загружены в DataFrame. Использование метода value_counts() позволило подсчитать уникальные значения в столбце 'cat_popular', что помогло выявить распределение категорий.\n",
    "\n",
    "3. Агрегация данных: Данные были сгруппированы по столбцу 'cat_popular', и для каждой категории был собран список значений из столбца 'url_regex_mod'. Это позволило создать новый DataFrame df_reg_unite, в котором каждая категория была представлена списком связанных значений.\n",
    "\n",
    "4. Формирование SQL запроса: Строка SQL-запроса была сформирована, начиная с подзапроса, в котором создавались условия для классификации req_host по категориям. Для каждой категории из df_reg_unite были добавлены соответствующие условия WHEN, проверяющие соответствие доменов в req_host.\n",
    "\n",
    "5. Заполнение и завершение строки запроса: Были добавлены строки с условиями WHEN, в которых домены, полученные из списка в df_reg_unite, добавлялись с использованием метода join(). В результате строка запроса была дополнена необходимыми условиями и"
   ]
  }
 ],
 "metadata": {
  "hide_input": false,
  "kernelspec": {
   "display_name": "Python 3 (ipykernel)",
   "language": "python",
   "name": "python3"
  },
  "language_info": {
   "codemirror_mode": {
    "name": "ipython",
    "version": 3
   },
   "file_extension": ".py",
   "mimetype": "text/x-python",
   "name": "python",
   "nbconvert_exporter": "python",
   "pygments_lexer": "ipython3",
   "version": "3.11.5"
  }
 },
 "nbformat": 4,
 "nbformat_minor": 5
}
