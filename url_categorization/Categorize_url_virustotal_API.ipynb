{
 "cells": [
  {
   "cell_type": "markdown",
   "id": "4cd19082",
   "metadata": {},
   "source": [
    "В этом примере я использую категоризацию с помощью API сервиса VirusTotal. В отличие от Alphamountain, VirusTotal предоставляет ключ для API, что упрощает процесс интеграции. Этот скрипт выполняет запросы к API для получения категории для каждого URL из файла new_url_task.csv. Для этого URL сначала кодируется в формат Base64, затем отправляется запрос на сервер VirusTotal для получения информации. Результаты сохраняются в CSV файл, где каждая строка содержит URL и соответствующую категорию. В процессе выполнения добавлены паузы между запросами для предотвращения перегрузки API."
   ]
  },
  {
   "cell_type": "code",
   "execution_count": 1,
   "id": "1119d3ef",
   "metadata": {
    "ExecuteTime": {
     "end_time": "2024-10-06T18:54:43.818958Z",
     "start_time": "2024-10-06T18:54:43.814539Z"
    }
   },
   "outputs": [],
   "source": [
    "import requests\n",
    "import getpass\n",
    "import pandas as pd\n",
    "import numpy as np\n",
    "from tqdm import tqdm\n",
    "import time"
   ]
  },
  {
   "cell_type": "code",
   "execution_count": 2,
   "id": "46356cb8",
   "metadata": {
    "ExecuteTime": {
     "end_time": "2024-10-06T18:46:33.680396Z",
     "start_time": "2024-10-06T18:46:31.470310Z"
    }
   },
   "outputs": [],
   "source": [
    "API_KEY = ''\n"
   ]
  },
  {
   "cell_type": "code",
   "execution_count": 3,
   "id": "6cf0b59f",
   "metadata": {
    "ExecuteTime": {
     "end_time": "2024-10-06T18:40:27.461258Z",
     "start_time": "2024-10-06T18:40:27.455838Z"
    }
   },
   "outputs": [],
   "source": [
    "# Endpoint для получения отчета по URL (v3)\n",
    "url_report_endpoint = f\"https://www.virustotal.com/api/v3/urls\"\n",
    "\n",
    "# Функция для получения ID зашифрованного URL (требуется для v3)\n",
    "def get_encoded_url(url):\n",
    "    import base64\n",
    "    url_bytes = url.encode(\"utf-8\")\n",
    "    base64_url = base64.urlsafe_b64encode(url_bytes).decode(\"utf-8\").strip(\"=\")\n",
    "    return base64_url\n",
    "\n",
    "# Шаг 1: Получение отчета с категорией URL через API v3\n",
    "def get_url_report_v3(url):\n",
    "    # Получаем зашифрованный URL для v3 API\n",
    "    encoded_url = get_encoded_url(url)\n",
    "    \n",
    "    # Формируем заголовки и запрос\n",
    "    headers = {\n",
    "        \"x-apikey\": API_KEY\n",
    "    }\n",
    "    response = requests.get(f\"{url_report_endpoint}/{encoded_url}\", headers=headers)\n",
    "    \n",
    "    if response.status_code == 200:\n",
    "        report = response.json()\n",
    "        \n",
    "        # Проверяем, есть ли отчет по категории\n",
    "        try:\n",
    "            categories = report[\"data\"][\"attributes\"][\"categories\"]\n",
    "            return categories\n",
    "        except KeyError:\n",
    "            pass\n",
    "#             print(f\"{url}\\nКатегория не найдена в отчете.\")\n",
    "        \n",
    "    else:\n",
    "        print(f\"Ошибка при получении отчета: {response.status_code}, {response.text}\")\n",
    "\n",
    "# Получаем отчет с категорией для указанного URL\n",
    "# r = get_url_report_v3(url)\n"
   ]
  },
  {
   "cell_type": "code",
   "execution_count": 4,
   "id": "b02272e3",
   "metadata": {
    "ExecuteTime": {
     "end_time": "2024-10-06T18:49:17.951988Z",
     "start_time": "2024-10-06T18:49:17.912104Z"
    }
   },
   "outputs": [],
   "source": [
    "df_urls = pd.read_csv('new_url_task.csv')\n",
    "urls = df_urls['url'].unique()"
   ]
  },
  {
   "cell_type": "code",
   "execution_count": 5,
   "id": "fd008e3b",
   "metadata": {
    "ExecuteTime": {
     "end_time": "2024-10-06T18:47:42.091927Z",
     "start_time": "2024-10-06T18:47:42.089634Z"
    }
   },
   "outputs": [],
   "source": [
    "cats_list = list()"
   ]
  },
  {
   "cell_type": "code",
   "execution_count": null,
   "id": "b8708bd6",
   "metadata": {
    "ExecuteTime": {
     "start_time": "2024-10-06T18:55:15.297Z"
    }
   },
   "outputs": [
    {
     "name": "stderr",
     "output_type": "stream",
     "text": [
      "  0%|          | 0/1 [00:21<?, ?it/s]\n"
     ]
    }
   ],
   "source": [
    "i = 0\n",
    "filename = 'category_result_month_new.csv'\n",
    "N_start = 1\n",
    "N_end = 2\n",
    "\n",
    "for url in tqdm(urls[N_start:N_end]):\n",
    "    cats = get_url_report_v3(url)\n",
    "    if cats:\n",
    "        cats_list.append((url, cats))\n",
    "    else:\n",
    "        cats_list.append((url, np.nan))\n",
    "    \n",
    "    time.sleep(15)\n",
    "    \n",
    "    if i % 10 == 0:\n",
    "        df_res = pd.DataFrame(cats_list, columns=['url', 'cats'])\n",
    "        df_res.to_csv(filename)\n",
    "    \n",
    "    i += 1\n",
    "    \n",
    "df_res.to_csv(filename)"
   ]
  },
  {
   "cell_type": "markdown",
   "id": "57aff4ad",
   "metadata": {},
   "source": [
    "##### "
   ]
  }
 ],
 "metadata": {
  "hide_input": false,
  "kernelspec": {
   "display_name": "Python 3 (ipykernel)",
   "language": "python",
   "name": "python3"
  },
  "language_info": {
   "codemirror_mode": {
    "name": "ipython",
    "version": 3
   },
   "file_extension": ".py",
   "mimetype": "text/x-python",
   "name": "python",
   "nbconvert_exporter": "python",
   "pygments_lexer": "ipython3",
   "version": "3.11.5"
  }
 },
 "nbformat": 4,
 "nbformat_minor": 5
}
