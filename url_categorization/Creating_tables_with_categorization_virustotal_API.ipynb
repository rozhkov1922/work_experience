{
 "cells": [
  {
   "cell_type": "markdown",
   "id": "98444ca8",
   "metadata": {},
   "source": [
    "В данном файле я преобразую таблицу по источнику категоризации Virustotal, чтобы использовать в дальнейшем эту таблицу для сравнения с другими источниками  "
   ]
  },
  {
   "cell_type": "markdown",
   "id": "957875dd",
   "metadata": {},
   "source": [
    "1. Чтение и обработка файлов: Читаются все CSV файлы из директории 'api categorization_v1', содержащие столбцы 'url' и 'cats', где категории разделяются на отдельные столбцы.\n",
    "\n",
    "2. Объединение данных: Все данные из файлов объединяются в общий DataFrame combined_df, после чего создается новый столбец 'combined_cats', объединяющий все категории для каждого URL в одну строку.\n",
    "\n",
    "3. Преобразование и нормализация: Столбец 'combined_cats' преобразуется в словарь, а затем нормализуется, создавая отдельные столбцы для каждой категории.\n",
    "\n",
    "4. Сохранение результата: Итоговый DataFrame сохраняется в новый CSV файл 'новая категоризация аpi virustotal.csv'."
   ]
  },
  {
   "cell_type": "markdown",
   "id": "25f1093d",
   "metadata": {},
   "source": [
    "1. Загрузка библиотек "
   ]
  },
  {
   "cell_type": "code",
   "execution_count": 1,
   "id": "a3d7306c",
   "metadata": {},
   "outputs": [],
   "source": [
    "import re\n",
    "import os\n",
    "import pandas as pd\n",
    "import ast"
   ]
  },
  {
   "cell_type": "markdown",
   "id": "d2783f91",
   "metadata": {},
   "source": [
    "2.  Чтение и обработка файлов:"
   ]
  },
  {
   "cell_type": "code",
   "execution_count": 2,
   "id": "99220790",
   "metadata": {},
   "outputs": [
    {
     "name": "stdout",
     "output_type": "stream",
     "text": [
      "Объединение файлов завершено, результат сохранен в \"объединенная_таблица.csv\"\n"
     ]
    }
   ],
   "source": [
    "\n",
    "# Путь к директории с файлами\n",
    "input_directory = 'api categorization_v1'\n",
    "\n",
    "# Создаем пустой DataFrame для объединения данных\n",
    "combined_df = pd.DataFrame()\n",
    "\n",
    "# Проходим по всем файлам в директории\n",
    "for filename in os.listdir(input_directory):\n",
    "    if filename.startswith('category_result_month_new') and filename.endswith('.csv'):\n",
    "        file_path = os.path.join(input_directory, filename)\n",
    "        \n",
    "        # Читаем файл CSV\n",
    "        df = pd.read_csv(file_path)\n",
    "        \n",
    "        # Предполагаем, что в каждом файле есть колонки 'url' и 'cats'\n",
    "        if 'url' in df.columns and 'cats' in df.columns:\n",
    "            # Разделяем категории, если их несколько, и создаем отдельные колонки для каждой\n",
    "            df_expanded = df['cats'].str.split(',', expand=True)\n",
    "            df_expanded.columns = [f'cats{i+1}' for i in range(df_expanded.shape[1])]\n",
    "            \n",
    "            # Объединяем с колонкой 'url'\n",
    "            df = pd.concat([df[['url']], df_expanded], axis=1)\n",
    "            \n",
    "            # Добавляем данные в общий DataFrame\n",
    "            combined_df = pd.concat([combined_df, df], ignore_index=True)\n",
    "\n",
    "# Сохраняем объединенный DataFrame в новый CSV файл\n",
    "#combined_df.to_csv('новая категоризация аpi virustotal.csv', index=False)\n",
    "print('Объединение файлов завершено, результат сохранен в \"объединенная_таблица.csv\"')\n"
   ]
  },
  {
   "cell_type": "markdown",
   "id": "48f3db15",
   "metadata": {},
   "source": [
    "3.  Преобразование и нормализация:"
   ]
  },
  {
   "cell_type": "markdown",
   "id": "f57641be",
   "metadata": {},
   "source": [
    "Этот код объединяет категории, указанные в столбцах 'cats1' до 'cats7', в один столбец 'combined_cats' для каждого URL, исключая пустые значения. Затем он удаляет исходные столбцы с категориями, оставляя только столбцы 'url' и 'combined_cats'."
   ]
  },
  {
   "cell_type": "code",
   "execution_count": 4,
   "id": "9744ede7",
   "metadata": {},
   "outputs": [],
   "source": [
    "# Список столбцов с категориями\n",
    "cats_columns = ['cats1', 'cats2', 'cats3', 'cats4', 'cats5', 'cats6', 'cats7']\n",
    "\n",
    "# Создание нового столбца, объединяющего категории в одну строку\n",
    "combined_df['combined_cats'] = combined_df[cats_columns].apply(lambda x: ', '.join(x.dropna().astype(str)), axis=1)\n",
    "\n",
    "# Удаление оригинальных столбцов с категориями\n",
    "df_combined = combined_df[['url', 'combined_cats']]"
   ]
  },
  {
   "cell_type": "markdown",
   "id": "0fb4d79a",
   "metadata": {},
   "source": [
    "Этот код преобразует значения в столбце 'combined_cats' в словарь для каждой строки, исправляя форматирование ключей, если это необходимо. Затем данные нормализуются в отдельные столбцы, где источники становятся колонками, а категории — значениями. Наконец, столбец 'url' добавляется обратно в новый DataFrame для создания окончательной структуры данных."
   ]
  },
  {
   "cell_type": "code",
   "execution_count": 5,
   "id": "14aec33a",
   "metadata": {},
   "outputs": [
    {
     "name": "stderr",
     "output_type": "stream",
     "text": [
      "C:\\Users\\rozhk\\AppData\\Local\\Temp\\ipykernel_5688\\3527323785.py:10: SettingWithCopyWarning: \n",
      "A value is trying to be set on a copy of a slice from a DataFrame.\n",
      "Try using .loc[row_indexer,col_indexer] = value instead\n",
      "\n",
      "See the caveats in the documentation: https://pandas.pydata.org/pandas-docs/stable/user_guide/indexing.html#returning-a-view-versus-a-copy\n",
      "  df_combined['combined_cats_dict'] = df_combined['combined_cats'].apply(safe_literal_eval)\n"
     ]
    }
   ],
   "source": [
    "def safe_literal_eval(value):\n",
    "    try:\n",
    "        # Заменяем некорректно отформатированные элементы, если необходимо\n",
    "        formatted_value = re.sub(r\"([a-zA-Z0-9_]+):\", r'\"\\1\":', value)  # Убедитесь, что ключи правильно заключены в кавычки\n",
    "        return ast.literal_eval(formatted_value)\n",
    "    except (ValueError, SyntaxError):\n",
    "        return {}\n",
    "\n",
    "# Преобразуем значения столбца combined_cats в словарь для каждой строки\n",
    "df_combined['combined_cats_dict'] = df_combined['combined_cats'].apply(safe_literal_eval)\n",
    "\n",
    "# Нормализуем столбец 'combined_cats_dict' для создания DataFrame с источниками как столбцами и категориями как значениями\n",
    "df_expanded = pd.json_normalize(df_combined['combined_cats_dict'])\n",
    "\n",
    "# Добавляем обратно столбец 'url' в новый DataFrame\n",
    "df_expanded = pd.concat([df_combined['url'], df_expanded], axis=1)\n"
   ]
  },
  {
   "cell_type": "markdown",
   "id": "209a1091",
   "metadata": {},
   "source": [
    "4. Сохранение результата: "
   ]
  },
  {
   "cell_type": "code",
   "execution_count": 7,
   "id": "024441ef",
   "metadata": {},
   "outputs": [],
   "source": [
    "df_expanded.to_csv('новая категоризация аpi virustotal.csv', index=False)"
   ]
  },
  {
   "cell_type": "code",
   "execution_count": null,
   "id": "7b77b820",
   "metadata": {},
   "outputs": [],
   "source": []
  }
 ],
 "metadata": {
  "kernelspec": {
   "display_name": "Python 3 (ipykernel)",
   "language": "python",
   "name": "python3"
  },
  "language_info": {
   "codemirror_mode": {
    "name": "ipython",
    "version": 3
   },
   "file_extension": ".py",
   "mimetype": "text/x-python",
   "name": "python",
   "nbconvert_exporter": "python",
   "pygments_lexer": "ipython3",
   "version": "3.11.5"
  }
 },
 "nbformat": 4,
 "nbformat_minor": 5
}
