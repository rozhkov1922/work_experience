{
 "cells": [
  {
   "cell_type": "markdown",
   "id": "6e8e5079",
   "metadata": {},
   "source": [
    "Я использовал антивирус Alphamountain для категоризации содержимого файла new_url_task_2.csv. Этот скрипт позволяет отправлять запросы к API для получения информации о категориях и угрозах для URL. Для использования потребуется лицензия, которую нужно запрашивать у владельцев сервиса, что замедляет процесс. В коде предусмотрены функции для получения категории и угроз для каждого URL, а также обработка прогресса с выводом результатов в CSV файл. Каждые 10 обработанных URL сохраняются в отдельный файл, а результаты по завершении обработки всех URL сохраняются в итоговый файл."
   ]
  },
  {
   "cell_type": "code",
   "execution_count": 1,
   "id": "1ec2d747",
   "metadata": {},
   "outputs": [
    {
     "name": "stderr",
     "output_type": "stream",
     "text": [
      "Категоризация URL: 100%|██████████| 999/999 [44:30<00:00,  2.67s/it]"
     ]
    },
    {
     "name": "stdout",
     "output_type": "stream",
     "text": [
      "Категоризация завершена!\n"
     ]
    },
    {
     "name": "stderr",
     "output_type": "stream",
     "text": [
      "\n"
     ]
    }
   ],
   "source": [
    "import pandas as pd\n",
    "import requests\n",
    "import json\n",
    "from tqdm import tqdm\n",
    "import time\n",
    "\n",
    "# Загрузите данные из CSV\n",
    "df = pd.read_csv('new_url_task_2.csv')\n",
    "\n",
    "# Убедитесь, что есть только 1000 URL\n",
    "df = df.iloc[0001:1000]\n",
    "\n",
    "\n",
    "# Лицензионный ключ\n",
    "license_key = ''\n",
    "\n",
    "# Функция для запроса категории URL\n",
    "def get_category(url):\n",
    "    url = url if url.startswith(\"http\") else \"https://\" + url  # добавляем протокол, если его нет\n",
    "    payload = {\n",
    "        \"uri\": url,\n",
    "        \"license\": license_key,\n",
    "        \"type\": \"partner.info\",\n",
    "        \"version\": 1\n",
    "    }\n",
    "    try:\n",
    "        response = requests.post(\"https://api.alphamountain.ai/category/uri/\", json=payload, timeout=10)\n",
    "        if response.status_code == 200:\n",
    "            return response.json()\n",
    "    except requests.exceptions.RequestException as e:\n",
    "        print(f\"Ошибка при получении категории для {url}: {e}\")\n",
    "    return None\n",
    "\n",
    "# Функция для запроса угроз URL\n",
    "def get_threat(url):\n",
    "    url = url if url.startswith(\"http\") else \"https://\" + url  # добавляем протокол, если его нет\n",
    "    payload = {\n",
    "        \"uri\": url,\n",
    "        \"license\": license_key,\n",
    "        \"type\": \"partner.info\",\n",
    "        \"version\": 1\n",
    "    }\n",
    "    try:\n",
    "        response = requests.post(\"https://api.alphamountain.ai/threat/uri/\", json=payload, timeout=10)\n",
    "        if response.status_code == 200:\n",
    "            return response.json()\n",
    "    except requests.exceptions.RequestException as e:\n",
    "        print(f\"Ошибка при получении угрозы для {url}: {e}\")\n",
    "    return None\n",
    "\n",
    "# Создание DataFrame для записи результатов\n",
    "results_df = pd.DataFrame(columns=['url', 'Category', 'Threat'])\n",
    "\n",
    "# Прогресс-бар и выполнение запросов\n",
    "for index, row in tqdm(df.iterrows(), total=df.shape[0], desc=\"Категоризация URL\"):\n",
    "    url = row['url']\n",
    "    \n",
    "    # Получение категории и угрозы\n",
    "    category = get_category(url)\n",
    "    threat = get_threat(url)\n",
    "    \n",
    "    # Добавляем в таблицу результатов\n",
    "    results_df = pd.concat([results_df, pd.DataFrame({'url': [url], 'Category': [category], 'Threat': [threat]})], ignore_index=True)\n",
    "    \n",
    "    # Сохраняем результаты в файл каждые 10 URL\n",
    "    if index % 10 == 0:\n",
    "        results_df.to_csv('categorized_results_partial_2.csv', index=False)\n",
    "\n",
    "    # Краткая пауза для предотвращения перегрузки API\n",
    "    time.sleep(1)\n",
    "\n",
    "# Сохранение финального результата\n",
    "results_df.to_csv('categorized_new_url_task_2_final_2.csv', index=False)\n",
    "print(\"Категоризация завершена!\")\n"
   ]
  }
 ],
 "metadata": {
  "kernelspec": {
   "display_name": "Python 3 (ipykernel)",
   "language": "python",
   "name": "python3"
  },
  "language_info": {
   "codemirror_mode": {
    "name": "ipython",
    "version": 3
   },
   "file_extension": ".py",
   "mimetype": "text/x-python",
   "name": "python",
   "nbconvert_exporter": "python",
   "pygments_lexer": "ipython3",
   "version": "3.11.5"
  }
 },
 "nbformat": 4,
 "nbformat_minor": 5
}
