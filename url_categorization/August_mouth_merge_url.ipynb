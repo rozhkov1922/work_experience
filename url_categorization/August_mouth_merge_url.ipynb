{
 "cells": [
  {
   "cell_type": "markdown",
   "id": "833408c0",
   "metadata": {},
   "source": [
    "Анализ посещаемости веб-сайтов"
   ]
  },
  {
   "cell_type": "markdown",
   "id": "f3913419",
   "metadata": {},
   "source": [
    "Описание\n",
    "В проекте: обработаны данные о посещаемости веб-сайтов за август, содержащиеся в архиве urls.zip. Каждый файл внутри архива содержит информацию о сайтах и количестве запросов к ним.\n",
    "\n",
    "Для анализа выполнены следующие шаги:\n",
    "\n",
    "1.Разархивация данных: Извлечение файлов из архива в папку.\n",
    "2.Объединение данных: Все CSV-файлы объединены в один общий DataFrame.\n",
    "3.Агрегация данных: Подсчитано общее количество запросов (count()) для каждого уникального сайта (req_host), что позволило сократить объем данных и упростить их анализ.\n",
    "4.Сохранение результата: Итоговая таблица сохранена в файл aggregated_visits.csv в текущей рабочей директории."
   ]
  },
  {
   "cell_type": "code",
   "execution_count": 1,
   "id": "845e5bda",
   "metadata": {},
   "outputs": [
    {
     "name": "stdout",
     "output_type": "stream",
     "text": [
      "Результат сохранен в: E:\\прокси работа\\хранение файлов\\категоризация для git\\aggregated_visits.csv\n"
     ]
    }
   ],
   "source": [
    "import zipfile\n",
    "import os\n",
    "import pandas as pd\n",
    "\n",
    "# Путь к архиву\n",
    "archive_path = 'urls.zip'\n",
    "extraction_folder = os.path.splitext(archive_path)[0]  # Используем имя архива без расширения для папки разархивации\n",
    "\n",
    "# Разархивация файлов\n",
    "with zipfile.ZipFile(archive_path, 'r') as archive:\n",
    "    archive.extractall(extraction_folder)\n",
    "\n",
    "# Инициализация пустого DataFrame для объединения всех таблиц\n",
    "merged_data = pd.DataFrame()\n",
    "\n",
    "# Проход по всем CSV файлам в разархивированной папке\n",
    "for root, dirs, files in os.walk(extraction_folder):\n",
    "    for file in files:\n",
    "        if file.endswith('.csv'):  # Проверяем расширение файлов\n",
    "            csv_file_path = os.path.join(root, file)\n",
    "            csv_data = pd.read_csv(csv_file_path)  # Чтение файла\n",
    "            merged_data = pd.concat([merged_data, csv_data], ignore_index=True)  # Объединение таблиц\n",
    "\n",
    "# Суммирование количества посещений по каждому уникальному req_host\n",
    "aggregated_visits = merged_data.groupby('req_host', as_index=False).agg({'count()': 'sum'})\n",
    "\n",
    "# Путь для сохранения результата в текущей рабочей директории\n",
    "current_directory = os.getcwd()\n",
    "output_file_path = os.path.join(current_directory, 'aggregated_visits.csv')\n",
    "\n",
    "# Сохранение результата\n",
    "aggregated_visits.to_csv(output_file_path, index=False)\n",
    "\n",
    "# Выводим путь сохраненного файла\n",
    "print(f\"Результат сохранен в: {output_file_path}\")\n"
   ]
  },
  {
   "cell_type": "code",
   "execution_count": null,
   "id": "cd3034ca",
   "metadata": {},
   "outputs": [],
   "source": []
  }
 ],
 "metadata": {
  "kernelspec": {
   "display_name": "Python 3 (ipykernel)",
   "language": "python",
   "name": "python3"
  },
  "language_info": {
   "codemirror_mode": {
    "name": "ipython",
    "version": 3
   },
   "file_extension": ".py",
   "mimetype": "text/x-python",
   "name": "python",
   "nbconvert_exporter": "python",
   "pygments_lexer": "ipython3",
   "version": "3.11.5"
  }
 },
 "nbformat": 4,
 "nbformat_minor": 5
}
