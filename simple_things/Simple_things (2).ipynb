{
 "cells": [
  {
   "cell_type": "markdown",
   "id": "b2153fe1",
   "metadata": {},
   "source": [
    "Проект анализа для компании \"Простые вещи\"\n",
    "\n",
    "В данном проекте я сделал следующее:\n",
    "\n",
    "1. Выгрузил библиотеки  \n",
    "2. Проверил данные \n",
    "3. Предообработал данные, удалив часть строчек \n",
    "4. Провел анализ данных\n",
    "5. Провел когортный анализ \n",
    "6. Провел RFM анализ\n",
    "7. Вычислил DAU, WAU, sticky "
   ]
  },
  {
   "cell_type": "markdown",
   "id": "fd81dbbc",
   "metadata": {},
   "source": [
    "1. Загрузка библиотек. "
   ]
  },
  {
   "cell_type": "code",
   "execution_count": 1,
   "id": "d6d331ae",
   "metadata": {},
   "outputs": [],
   "source": [
    "import ipywidgets as widgets\n",
    "from IPython.display import display\n",
    "import pandas as pd\n",
    "import streamlit as st\n",
    "import numpy as np\n",
    "from datetime import datetime\n",
    "import seaborn as sns\n",
    "import matplotlib.pyplot as plt"
   ]
  },
  {
   "cell_type": "markdown",
   "id": "5ec91fca",
   "metadata": {},
   "source": [
    "2. Загрузка и проверка данных"
   ]
  },
  {
   "cell_type": "code",
   "execution_count": 2,
   "id": "940aa003",
   "metadata": {},
   "outputs": [],
   "source": [
    "data = pd.read_excel('correct_payments.xlsx')\n"
   ]
  },
  {
   "cell_type": "code",
   "execution_count": 3,
   "id": "98d2a5d5",
   "metadata": {},
   "outputs": [
    {
     "data": {
      "text/plain": [
       "Unnamed: 0               0\n",
       "id                       0\n",
       "action_date            652\n",
       "bank                     0\n",
       "site                     0\n",
       "order_id              2867\n",
       "customer                 1\n",
       "type                     0\n",
       "operation_sum            0\n",
       "operation_currency       0\n",
       "comission_sum           62\n",
       "final_sum               62\n",
       "final_currency          62\n",
       "status                   0\n",
       "aim                    673\n",
       "comission_perc           0\n",
       "file                     0\n",
       "dtype: int64"
      ]
     },
     "execution_count": 3,
     "metadata": {},
     "output_type": "execute_result"
    }
   ],
   "source": [
    "data.isna().sum()"
   ]
  },
  {
   "cell_type": "markdown",
   "id": "e46fb6d1",
   "metadata": {},
   "source": [
    "Как видно, в данных много пропусков. Нужно посмотреть, с чем это связано "
   ]
  },
  {
   "cell_type": "code",
   "execution_count": 4,
   "id": "dcfbeb37",
   "metadata": {},
   "outputs": [
    {
     "data": {
      "text/plain": [
       "status\n",
       "Отклонена    652\n",
       "Name: count, dtype: int64"
      ]
     },
     "execution_count": 4,
     "metadata": {},
     "output_type": "execute_result"
    }
   ],
   "source": [
    "data[data['action_date'].isna()]['status'].value_counts()"
   ]
  },
  {
   "cell_type": "code",
   "execution_count": 5,
   "id": "9ecd6397",
   "metadata": {},
   "outputs": [
    {
     "data": {
      "text/plain": [
       "status\n",
       "Завершена    2160\n",
       "Отклонена     707\n",
       "Name: count, dtype: int64"
      ]
     },
     "execution_count": 5,
     "metadata": {},
     "output_type": "execute_result"
    }
   ],
   "source": [
    "data[data['order_id'].isna()]['status'].value_counts()"
   ]
  },
  {
   "cell_type": "code",
   "execution_count": 6,
   "id": "74184ba7",
   "metadata": {},
   "outputs": [
    {
     "data": {
      "text/plain": [
       "status\n",
       "Отклонена    62\n",
       "Name: count, dtype: int64"
      ]
     },
     "execution_count": 6,
     "metadata": {},
     "output_type": "execute_result"
    }
   ],
   "source": [
    "data[data['final_sum'].isna()]['status'].value_counts()"
   ]
  },
  {
   "cell_type": "code",
   "execution_count": 7,
   "id": "d6da8221",
   "metadata": {},
   "outputs": [
    {
     "data": {
      "text/plain": [
       "status\n",
       "Завершена    504\n",
       "Отклонена    169\n",
       "Name: count, dtype: int64"
      ]
     },
     "execution_count": 7,
     "metadata": {},
     "output_type": "execute_result"
    }
   ],
   "source": [
    "data[data['aim'].isna()]['status'].value_counts()"
   ]
  },
  {
   "cell_type": "markdown",
   "id": "d81a7dc6",
   "metadata": {},
   "source": [
    "Как видно большая часть пропусков свзана с отклонением платежей"
   ]
  },
  {
   "cell_type": "code",
   "execution_count": 8,
   "id": "d7d5cc34",
   "metadata": {},
   "outputs": [
    {
     "data": {
      "text/plain": [
       "action_date\n",
       "                       169\n",
       "2024-06-22 12:37:00      3\n",
       "2024-06-22 10:26:00      3\n",
       "2024-06-04 15:21:00      2\n",
       "2024-06-22 11:27:00      2\n",
       "                      ... \n",
       "2024-04-14 21:44:00      1\n",
       "2024-04-14 21:21:00      1\n",
       "2024-04-14 12:09:00      1\n",
       "2024-04-14 11:16:00      1\n",
       "2024-07-01 08:32:00      1\n",
       "Name: count, Length: 3274, dtype: int64"
      ]
     },
     "execution_count": 8,
     "metadata": {},
     "output_type": "execute_result"
    }
   ],
   "source": [
    "data['action_date'].value_counts()"
   ]
  },
  {
   "cell_type": "code",
   "execution_count": 9,
   "id": "fa74610f",
   "metadata": {},
   "outputs": [
    {
     "data": {
      "text/plain": [
       "status\n",
       "Завершена    3327\n",
       "Отклонена     821\n",
       "Name: count, dtype: int64"
      ]
     },
     "execution_count": 9,
     "metadata": {},
     "output_type": "execute_result"
    }
   ],
   "source": [
    "data['status'].value_counts()"
   ]
  },
  {
   "cell_type": "markdown",
   "id": "55ca6e7b",
   "metadata": {},
   "source": [
    "В датасете пропуски связаны с отклоненными транзакциями - их мы далее удалил"
   ]
  },
  {
   "cell_type": "code",
   "execution_count": 10,
   "id": "0eb76ef9",
   "metadata": {},
   "outputs": [
    {
     "data": {
      "text/plain": [
       "type\n",
       "Регулярная оплата              2858\n",
       "Оплата                          836\n",
       "Оплата с созданием подписки     454\n",
       "Name: count, dtype: int64"
      ]
     },
     "execution_count": 10,
     "metadata": {},
     "output_type": "execute_result"
    }
   ],
   "source": [
    "data['type'].value_counts()"
   ]
  },
  {
   "cell_type": "markdown",
   "id": "010e6d19",
   "metadata": {},
   "source": [
    "Видно, что с регулярной оплатой пользователей гораздо больше"
   ]
  },
  {
   "cell_type": "code",
   "execution_count": 11,
   "id": "ae2b2f19",
   "metadata": {},
   "outputs": [
    {
     "data": {
      "text/plain": [
       "1476"
      ]
     },
     "execution_count": 11,
     "metadata": {},
     "output_type": "execute_result"
    }
   ],
   "source": [
    "data.query('status == \"Завершена\" or status == \"Completed\"')['customer'].nunique()"
   ]
  },
  {
   "cell_type": "code",
   "execution_count": 12,
   "id": "bc37e98b",
   "metadata": {},
   "outputs": [
    {
     "data": {
      "text/plain": [
       "customer\n",
       "False    4141\n",
       "True        6\n",
       "Name: count, dtype: int64"
      ]
     },
     "execution_count": 12,
     "metadata": {},
     "output_type": "execute_result"
    }
   ],
   "source": [
    "data['customer'].str.contains('nan').value_counts()"
   ]
  },
  {
   "cell_type": "markdown",
   "id": "b44bc7a7",
   "metadata": {},
   "source": [
    "2. Предообратка данных"
   ]
  },
  {
   "cell_type": "code",
   "execution_count": 13,
   "id": "1447e4cf",
   "metadata": {},
   "outputs": [
    {
     "data": {
      "text/html": [
       "<div>\n",
       "<style scoped>\n",
       "    .dataframe tbody tr th:only-of-type {\n",
       "        vertical-align: middle;\n",
       "    }\n",
       "\n",
       "    .dataframe tbody tr th {\n",
       "        vertical-align: top;\n",
       "    }\n",
       "\n",
       "    .dataframe thead th {\n",
       "        text-align: right;\n",
       "    }\n",
       "</style>\n",
       "<table border=\"1\" class=\"dataframe\">\n",
       "  <thead>\n",
       "    <tr style=\"text-align: right;\">\n",
       "      <th></th>\n",
       "      <th>Unnamed: 0</th>\n",
       "      <th>id</th>\n",
       "      <th>action_date</th>\n",
       "      <th>bank</th>\n",
       "      <th>site</th>\n",
       "      <th>order_id</th>\n",
       "      <th>customer</th>\n",
       "      <th>type</th>\n",
       "      <th>operation_sum</th>\n",
       "      <th>operation_currency</th>\n",
       "      <th>comission_sum</th>\n",
       "      <th>final_sum</th>\n",
       "      <th>final_currency</th>\n",
       "      <th>status</th>\n",
       "      <th>aim</th>\n",
       "      <th>comission_perc</th>\n",
       "      <th>file</th>\n",
       "    </tr>\n",
       "  </thead>\n",
       "  <tbody>\n",
       "    <tr>\n",
       "      <th>2562</th>\n",
       "      <td>332</td>\n",
       "      <td>2096037273</td>\n",
       "      <td>2024-03-05 13:58:00</td>\n",
       "      <td>Тинькофф</td>\n",
       "      <td>prostieveschi.ru</td>\n",
       "      <td>NaN</td>\n",
       "      <td>NaN</td>\n",
       "      <td>Регулярная оплата</td>\n",
       "      <td>100</td>\n",
       "      <td>RUB</td>\n",
       "      <td>3.9</td>\n",
       "      <td>96.1</td>\n",
       "      <td>RUB</td>\n",
       "      <td>Завершена</td>\n",
       "      <td>Поддержите \"Простые вещи\"</td>\n",
       "      <td>3.2</td>\n",
       "      <td>март.xls</td>\n",
       "    </tr>\n",
       "  </tbody>\n",
       "</table>\n",
       "</div>"
      ],
      "text/plain": [
       "      Unnamed: 0          id          action_date      bank              site  \\\n",
       "2562         332  2096037273  2024-03-05 13:58:00  Тинькофф  prostieveschi.ru   \n",
       "\n",
       "      order_id customer               type  operation_sum operation_currency  \\\n",
       "2562       NaN      NaN  Регулярная оплата            100                RUB   \n",
       "\n",
       "      comission_sum  final_sum final_currency     status  \\\n",
       "2562            3.9       96.1            RUB  Завершена   \n",
       "\n",
       "                            aim  comission_perc      file  \n",
       "2562  Поддержите \"Простые вещи\"             3.2  март.xls  "
      ]
     },
     "execution_count": 13,
     "metadata": {},
     "output_type": "execute_result"
    }
   ],
   "source": [
    "data[data['customer'].isna()]"
   ]
  },
  {
   "cell_type": "markdown",
   "id": "e51e72b5",
   "metadata": {},
   "source": [
    "Среди пользователей мы видим одного неизвестного. Чтобы он не потерялся, можно его переименовать "
   ]
  },
  {
   "cell_type": "code",
   "execution_count": 14,
   "id": "2fa00811",
   "metadata": {},
   "outputs": [],
   "source": [
    "# Найдём маску, где customer == NaN\n",
    "mask = data['customer'].isna()\n",
    "\n",
    "# Допустим, хотим всем таким строкам (если одна или несколько) присвоить одно имя:\n",
    "data.loc[mask, 'customer'] = \"Unknown_1\"\n",
    "\n",
    "# Теперь во всех строках, где раньше было NaN, в 'customer' появится \"Unknown_1\"\n"
   ]
  },
  {
   "cell_type": "markdown",
   "id": "274eccbb",
   "metadata": {},
   "source": [
    "Как видим, в данных есть разные валюты. Их нужно свести к рублям "
   ]
  },
  {
   "cell_type": "code",
   "execution_count": 15,
   "id": "29bcf87a",
   "metadata": {},
   "outputs": [
    {
     "data": {
      "text/plain": [
       "operation_currency\n",
       "RUB    4122\n",
       "EUR      15\n",
       "USD       7\n",
       "BYN       4\n",
       "Name: count, dtype: int64"
      ]
     },
     "execution_count": 15,
     "metadata": {},
     "output_type": "execute_result"
    }
   ],
   "source": [
    "data['operation_currency'].value_counts()"
   ]
  },
  {
   "cell_type": "markdown",
   "id": "d4da65ba",
   "metadata": {},
   "source": [
    "Переводим все данные в числа с десятиными дробями "
   ]
  },
  {
   "cell_type": "code",
   "execution_count": 16,
   "id": "18c8f1f2",
   "metadata": {},
   "outputs": [],
   "source": [
    "data['comission_sum'] = data['comission_sum'].astype(float)"
   ]
  },
  {
   "cell_type": "code",
   "execution_count": 17,
   "id": "575aa083",
   "metadata": {},
   "outputs": [],
   "source": [
    "data['final_sum'] = data['final_sum'].astype(float)"
   ]
  },
  {
   "cell_type": "code",
   "execution_count": 18,
   "id": "dc6cfb19",
   "metadata": {},
   "outputs": [],
   "source": [
    "data['comission_perc'] = data['comission_perc'].astype(float)"
   ]
  },
  {
   "cell_type": "markdown",
   "id": "6cf6176b",
   "metadata": {},
   "source": [
    "Приводим все статусы к единому формату "
   ]
  },
  {
   "cell_type": "code",
   "execution_count": 19,
   "id": "a176cf66",
   "metadata": {},
   "outputs": [],
   "source": [
    "data['status'] = data['status'].replace({\n",
    "    'Завершена': 'Completed',\n",
    "    'Отклонена': 'Declined'\n",
    "})"
   ]
  },
  {
   "cell_type": "code",
   "execution_count": 20,
   "id": "35d87ac7",
   "metadata": {},
   "outputs": [
    {
     "data": {
      "text/plain": [
       "1477"
      ]
     },
     "execution_count": 20,
     "metadata": {},
     "output_type": "execute_result"
    }
   ],
   "source": [
    "df_completed = data.query(\"status == 'Completed'\")\n",
    "df_completed['customer'].nunique()"
   ]
  },
  {
   "cell_type": "markdown",
   "id": "246cc9f6",
   "metadata": {},
   "source": [
    "Удаляем лишние данные, т.е. отклоненные платежи "
   ]
  },
  {
   "cell_type": "code",
   "execution_count": 21,
   "id": "2eab8519",
   "metadata": {},
   "outputs": [],
   "source": [
    "data = data[data['status'] == 'Completed']\n",
    "data = data[data['action_date'].notna()]\n",
    "data = data[data['final_sum'].notna()]"
   ]
  },
  {
   "cell_type": "code",
   "execution_count": 22,
   "id": "5b5f61b6",
   "metadata": {},
   "outputs": [
    {
     "data": {
      "text/plain": [
       "status\n",
       "Completed    3327\n",
       "Name: count, dtype: int64"
      ]
     },
     "execution_count": 22,
     "metadata": {},
     "output_type": "execute_result"
    }
   ],
   "source": [
    "data['status'].value_counts()"
   ]
  },
  {
   "cell_type": "markdown",
   "id": "69d1a3b3",
   "metadata": {},
   "source": [
    "Осталось 3327 строчек. Количество соотвествует числу транзакций "
   ]
  },
  {
   "cell_type": "markdown",
   "id": "e43489b9",
   "metadata": {},
   "source": [
    "Переводим данные в нормальный вид. Считаем день, неделя, месяц, год транзакции"
   ]
  },
  {
   "cell_type": "code",
   "execution_count": 23,
   "id": "14d8d75b",
   "metadata": {},
   "outputs": [],
   "source": [
    "data['action_date'] = pd.to_datetime(data['action_date'], errors='coerce')"
   ]
  },
  {
   "cell_type": "code",
   "execution_count": 24,
   "id": "8b12a041",
   "metadata": {},
   "outputs": [],
   "source": [
    "data['action_date_month'] = data['action_date'].dt.to_period('M')"
   ]
  },
  {
   "cell_type": "code",
   "execution_count": 25,
   "id": "51610bf3",
   "metadata": {},
   "outputs": [],
   "source": [
    "data['action_date_year'] = data['action_date'].dt.year"
   ]
  },
  {
   "cell_type": "code",
   "execution_count": 26,
   "id": "9547f582",
   "metadata": {},
   "outputs": [],
   "source": [
    "data['action_date_week'] = data['action_date'].dt.to_period('W')"
   ]
  },
  {
   "cell_type": "code",
   "execution_count": 27,
   "id": "8300b780",
   "metadata": {},
   "outputs": [],
   "source": [
    "# Курсы валют на 11 февраля 2025 года\n",
    "exchange_rates = {\n",
    "    'USD': 96.7821,   # 1 доллар США = 96.7821 рубля\n",
    "    'EUR': 100.4991,  # 1 евро = 100.4991 рубля\n",
    "    'BYN': 28.6227    # 1 белорусский рубль = 28.6227 рубля\n",
    "}\n",
    "\n",
    "# Функция для конвертации суммы в рубли\n",
    "def convert_to_rub(row):\n",
    "    currency = row['operation_currency']\n",
    "    amount = row['final_sum']\n",
    "    if currency == 'RUB':\n",
    "        return amount\n",
    "    elif currency in exchange_rates:\n",
    "        return amount * exchange_rates[currency]\n",
    "    else:\n",
    "        # Если валюта не распознана, можно вернуть NaN или оставить сумму без изменений\n",
    "        return amount\n",
    "\n",
    "# Применяем функцию к DataFrame\n",
    "data['amount_in_rub'] = data.apply(convert_to_rub, axis=1)\n",
    "\n",
    "# Обновляем колонку 'operation_currency' на 'RUB'\n",
    "data['operation_currency'] = 'RUB'\n"
   ]
  },
  {
   "cell_type": "markdown",
   "id": "7b9ad45e",
   "metadata": {},
   "source": [
    "Данные по валюте переводим в рубли "
   ]
  },
  {
   "cell_type": "markdown",
   "id": "68e05cdd",
   "metadata": {},
   "source": [
    "4. Анализ данных"
   ]
  },
  {
   "cell_type": "code",
   "execution_count": 28,
   "id": "2d5d7724",
   "metadata": {},
   "outputs": [
    {
     "data": {
      "text/plain": [
       "7"
      ]
     },
     "execution_count": 28,
     "metadata": {},
     "output_type": "execute_result"
    }
   ],
   "source": [
    "data['action_date_month'].nunique()"
   ]
  },
  {
   "cell_type": "markdown",
   "id": "b887bd34",
   "metadata": {},
   "source": [
    "В данных представлено семь месяцев "
   ]
  },
  {
   "cell_type": "markdown",
   "id": "9588f197",
   "metadata": {},
   "source": [
    "Далее готовим данные для построения дашборда"
   ]
  },
  {
   "cell_type": "markdown",
   "id": "24bcaacd",
   "metadata": {},
   "source": [
    "Количество пользователей"
   ]
  },
  {
   "cell_type": "code",
   "execution_count": 29,
   "id": "d9c90db2",
   "metadata": {},
   "outputs": [],
   "source": [
    "user_count = data['customer'].nunique()"
   ]
  },
  {
   "cell_type": "markdown",
   "id": "b64232af",
   "metadata": {},
   "source": [
    "Результирующая оплата"
   ]
  },
  {
   "cell_type": "code",
   "execution_count": 30,
   "id": "9881fcd4",
   "metadata": {},
   "outputs": [],
   "source": [
    "final_revenue = data['final_sum'].sum().astype(int)"
   ]
  },
  {
   "cell_type": "markdown",
   "id": "ea1187c0",
   "metadata": {},
   "source": [
    "Число транзакций "
   ]
  },
  {
   "cell_type": "code",
   "execution_count": 31,
   "id": "54e772d5",
   "metadata": {},
   "outputs": [],
   "source": [
    "final_transaction = data['operation_sum'].sum()"
   ]
  },
  {
   "cell_type": "markdown",
   "id": "d8169944",
   "metadata": {},
   "source": [
    "Финальная комиссия "
   ]
  },
  {
   "cell_type": "code",
   "execution_count": 32,
   "id": "f9283c6b",
   "metadata": {},
   "outputs": [],
   "source": [
    "final_comission = data['comission_sum'].sum()"
   ]
  },
  {
   "cell_type": "markdown",
   "id": "3de4c4c8",
   "metadata": {},
   "source": [
    "Средняя величина транзакции "
   ]
  },
  {
   "cell_type": "code",
   "execution_count": 33,
   "id": "21c904e3",
   "metadata": {},
   "outputs": [],
   "source": [
    "mean_transaction = data['operation_sum'].mean()"
   ]
  },
  {
   "cell_type": "markdown",
   "id": "6325f2cb",
   "metadata": {},
   "source": [
    "Медиана транзакции "
   ]
  },
  {
   "cell_type": "code",
   "execution_count": 34,
   "id": "2d2d34e4",
   "metadata": {},
   "outputs": [],
   "source": [
    "median_transaction = data['operation_sum'].median()"
   ]
  },
  {
   "cell_type": "markdown",
   "id": "ca6c2932",
   "metadata": {},
   "source": [
    "Количество заплативших пользователей"
   ]
  },
  {
   "cell_type": "code",
   "execution_count": 35,
   "id": "470e54a9",
   "metadata": {},
   "outputs": [],
   "source": [
    "user_pay_count = data.query('type == \"Оплата\"')['customer'].nunique()"
   ]
  },
  {
   "cell_type": "markdown",
   "id": "1ea3ce48",
   "metadata": {},
   "source": [
    "Считаем первый месяц активности для всех пользователей"
   ]
  },
  {
   "cell_type": "code",
   "execution_count": 36,
   "id": "d6cda976",
   "metadata": {},
   "outputs": [],
   "source": [
    "data['first_month'] = data['customer'].map(\n",
    "    data.groupby('customer')['action_date'].min().dt.to_period('M')\n",
    ")"
   ]
  },
  {
   "cell_type": "markdown",
   "id": "690c66ce",
   "metadata": {},
   "source": [
    "Кумулитивный рост пользователей по месяцам"
   ]
  },
  {
   "cell_type": "code",
   "execution_count": 37,
   "id": "ad3a88cb",
   "metadata": {},
   "outputs": [],
   "source": [
    "users_count_per_month = (\n",
    "    data\n",
    "    .groupby('first_month')['customer']\n",
    "    .nunique()\n",
    "    .cumsum()\n",
    "    .reset_index()\n",
    ")\n"
   ]
  },
  {
   "cell_type": "markdown",
   "id": "4e2d1344",
   "metadata": {},
   "source": [
    "Кумулитивный рост выручки по месяцам"
   ]
  },
  {
   "cell_type": "code",
   "execution_count": 38,
   "id": "2e23f430",
   "metadata": {},
   "outputs": [],
   "source": [
    "money_per_month = (\n",
    "    data.groupby('first_month')['final_sum']\n",
    "    .sum()\n",
    "    .round()\n",
    "    .astype(int)\n",
    "    .cumsum()\n",
    "    .reset_index()\n",
    ")"
   ]
  },
  {
   "cell_type": "markdown",
   "id": "724ad501",
   "metadata": {},
   "source": [
    "Рост средней выручки по месяцам"
   ]
  },
  {
   "cell_type": "code",
   "execution_count": 39,
   "id": "0cc4e909",
   "metadata": {},
   "outputs": [],
   "source": [
    "mean_revenue_per_month = data.groupby('action_date_month').agg({\n",
    "    'final_sum': ['mean']\n",
    "}).reset_index().round(2)\n"
   ]
  },
  {
   "cell_type": "markdown",
   "id": "bffec38e",
   "metadata": {},
   "source": [
    "Скользаящее среднее для двум месяцам"
   ]
  },
  {
   "cell_type": "code",
   "execution_count": 40,
   "id": "97285fcf",
   "metadata": {},
   "outputs": [],
   "source": [
    "# 1. Сгруппируем по месяцу и возьмем среднюю final_sum\n",
    "monthly_mean = (\n",
    "    data\n",
    "    .groupby('action_date_month', as_index=False)['final_sum']\n",
    "    .mean()\n",
    ")\n",
    "\n",
    "# 2. Отсортируем по датам на случай, если месяц идет не по порядку\n",
    "monthly_mean = monthly_mean.sort_values('action_date_month')\n",
    "\n",
    "# 3. Вычислим скользящее среднее по окну в 2 месяца\n",
    "monthly_mean['rolling_mean_3m'] = monthly_mean['final_sum'].rolling(window=2).mean()\n"
   ]
  },
  {
   "cell_type": "code",
   "execution_count": 41,
   "id": "ee16bf06",
   "metadata": {},
   "outputs": [
    {
     "data": {
      "text/html": [
       "<div>\n",
       "<style scoped>\n",
       "    .dataframe tbody tr th:only-of-type {\n",
       "        vertical-align: middle;\n",
       "    }\n",
       "\n",
       "    .dataframe tbody tr th {\n",
       "        vertical-align: top;\n",
       "    }\n",
       "\n",
       "    .dataframe thead th {\n",
       "        text-align: right;\n",
       "    }\n",
       "</style>\n",
       "<table border=\"1\" class=\"dataframe\">\n",
       "  <thead>\n",
       "    <tr style=\"text-align: right;\">\n",
       "      <th></th>\n",
       "      <th>action_date_month</th>\n",
       "      <th>final_sum</th>\n",
       "      <th>rolling_mean_3m</th>\n",
       "    </tr>\n",
       "  </thead>\n",
       "  <tbody>\n",
       "    <tr>\n",
       "      <th>0</th>\n",
       "      <td>2024-01</td>\n",
       "      <td>485.908711</td>\n",
       "      <td>NaN</td>\n",
       "    </tr>\n",
       "    <tr>\n",
       "      <th>1</th>\n",
       "      <td>2024-02</td>\n",
       "      <td>496.327944</td>\n",
       "      <td>491.118327</td>\n",
       "    </tr>\n",
       "    <tr>\n",
       "      <th>2</th>\n",
       "      <td>2024-03</td>\n",
       "      <td>960.804917</td>\n",
       "      <td>728.566431</td>\n",
       "    </tr>\n",
       "    <tr>\n",
       "      <th>3</th>\n",
       "      <td>2024-04</td>\n",
       "      <td>728.923287</td>\n",
       "      <td>844.864102</td>\n",
       "    </tr>\n",
       "    <tr>\n",
       "      <th>4</th>\n",
       "      <td>2024-05</td>\n",
       "      <td>761.466212</td>\n",
       "      <td>745.194750</td>\n",
       "    </tr>\n",
       "    <tr>\n",
       "      <th>5</th>\n",
       "      <td>2024-06</td>\n",
       "      <td>817.223014</td>\n",
       "      <td>789.344613</td>\n",
       "    </tr>\n",
       "    <tr>\n",
       "      <th>6</th>\n",
       "      <td>2024-07</td>\n",
       "      <td>691.807779</td>\n",
       "      <td>754.515397</td>\n",
       "    </tr>\n",
       "  </tbody>\n",
       "</table>\n",
       "</div>"
      ],
      "text/plain": [
       "  action_date_month   final_sum  rolling_mean_3m\n",
       "0           2024-01  485.908711              NaN\n",
       "1           2024-02  496.327944       491.118327\n",
       "2           2024-03  960.804917       728.566431\n",
       "3           2024-04  728.923287       844.864102\n",
       "4           2024-05  761.466212       745.194750\n",
       "5           2024-06  817.223014       789.344613\n",
       "6           2024-07  691.807779       754.515397"
      ]
     },
     "execution_count": 41,
     "metadata": {},
     "output_type": "execute_result"
    }
   ],
   "source": [
    "monthly_mean"
   ]
  },
  {
   "cell_type": "markdown",
   "id": "61eeb9f8",
   "metadata": {},
   "source": [
    "5. Когортный анализ "
   ]
  },
  {
   "cell_type": "markdown",
   "id": "df8b0ea9",
   "metadata": {},
   "source": [
    "Определим первую дату для всех клиентов"
   ]
  },
  {
   "cell_type": "code",
   "execution_count": 42,
   "id": "656667ae",
   "metadata": {},
   "outputs": [],
   "source": [
    "user_first_tx = (\n",
    "    data\n",
    "    .groupby('customer', as_index=False)\n",
    "    .agg(first_txn_date=('action_date', 'min'))\n",
    ")"
   ]
  },
  {
   "cell_type": "markdown",
   "id": "f6067d0b",
   "metadata": {},
   "source": [
    "Округлим до месяцов "
   ]
  },
  {
   "cell_type": "code",
   "execution_count": 43,
   "id": "19d3b827",
   "metadata": {},
   "outputs": [],
   "source": [
    "user_first_tx['cohort_month'] = user_first_tx['first_txn_date'].dt.month\n",
    "user_first_tx['cohort_year'] = user_first_tx['first_txn_date'].dt.year"
   ]
  },
  {
   "cell_type": "markdown",
   "id": "3172c65f",
   "metadata": {},
   "source": [
    "Смерджим с основной таблицей, установив первую дату активности, месяц и год для всех клиентов "
   ]
  },
  {
   "cell_type": "code",
   "execution_count": 44,
   "id": "ffea01b1",
   "metadata": {},
   "outputs": [],
   "source": [
    "df_merged = data.merge(user_first_tx, on='customer', how='left', validate='many_to_one')"
   ]
  },
  {
   "cell_type": "code",
   "execution_count": 45,
   "id": "58469e2a",
   "metadata": {},
   "outputs": [],
   "source": [
    "df_merged['txn_year'] = df_merged['action_date'].dt.year\n",
    "df_merged['txn_month'] = df_merged['action_date'].dt.month"
   ]
  },
  {
   "cell_type": "markdown",
   "id": "9fbd5cc9",
   "metadata": {},
   "source": [
    "Удалим строчки, где информации о первых датах нет"
   ]
  },
  {
   "cell_type": "code",
   "execution_count": 46,
   "id": "9b3dfa57",
   "metadata": {},
   "outputs": [],
   "source": [
    "df_merged = df_merged.dropna(subset=['first_txn_date'])"
   ]
  },
  {
   "cell_type": "markdown",
   "id": "449efa86",
   "metadata": {},
   "source": [
    "Определеям лайфтайм по месяцам"
   ]
  },
  {
   "cell_type": "code",
   "execution_count": 47,
   "id": "df59440f",
   "metadata": {},
   "outputs": [],
   "source": [
    "df_merged['month_of_life'] =  df_merged['txn_month'].astype(int) - df_merged['cohort_month'].astype(int)"
   ]
  },
  {
   "cell_type": "markdown",
   "id": "828f0bc4",
   "metadata": {},
   "source": [
    "Группируем все данные по месяцу когорты и лайфтайму для дальнейшей обработки "
   ]
  },
  {
   "cell_type": "code",
   "execution_count": 48,
   "id": "bf796fbb",
   "metadata": {},
   "outputs": [],
   "source": [
    "grouped = df_merged.groupby(['cohort_month', 'month_of_life'])"
   ]
  },
  {
   "cell_type": "markdown",
   "id": "f6ec9279",
   "metadata": {},
   "source": [
    "Считаем метрики "
   ]
  },
  {
   "cell_type": "code",
   "execution_count": 49,
   "id": "de403431",
   "metadata": {},
   "outputs": [],
   "source": [
    "cohort_metrics = grouped[['month_of_life','id','customer','final_sum']].agg(\n",
    "    transactions_count=('id','count'),\n",
    "    active_users=('customer','nunique'),\n",
    "    total_sum=('final_sum','sum'),\n",
    "    avg_check=('final_sum', 'mean')\n",
    ").reset_index()\n",
    "\n",
    "# Удаляем столбец cohort_month, если не нужен\n"
   ]
  },
  {
   "cell_type": "markdown",
   "id": "0212ad9d",
   "metadata": {},
   "source": [
    "Считаем метрики для LTV"
   ]
  },
  {
   "cell_type": "code",
   "execution_count": 50,
   "id": "50bcabed",
   "metadata": {},
   "outputs": [],
   "source": [
    "cohort_metrics['cumulative_sum'] = cohort_metrics.sort_values('month_of_life') \\\n",
    "    .groupby('cohort_month')['total_sum'].cumsum()"
   ]
  },
  {
   "cell_type": "markdown",
   "id": "0ae6b5ff",
   "metadata": {},
   "source": [
    "Далее идут сводные таблицы для анализа данных"
   ]
  },
  {
   "cell_type": "code",
   "execution_count": 51,
   "id": "3e0a04c7",
   "metadata": {},
   "outputs": [],
   "source": [
    "cohort_pivot_active_users = cohort_metrics.pivot(\n",
    "    index='month_of_life',       # строка – это месяц жизни когорты\n",
    "    columns='cohort_month',         # столбец – это сама когорта (год-месяц начала)\n",
    "    values='active_users'      # какое значение хотим видеть\n",
    ").fillna(0)"
   ]
  },
  {
   "cell_type": "code",
   "execution_count": 52,
   "id": "4e3ea847",
   "metadata": {},
   "outputs": [],
   "source": [
    "cohort_pivot_ltv = cohort_metrics.pivot(\n",
    "    index='month_of_life',       # строка – это месяц жизни когорты\n",
    "    columns='cohort_month',         # столбец – это сама когорта (год-месяц начала)\n",
    "    values='cumulative_sum'      # какое значение хотим видеть\n",
    ").fillna(0)"
   ]
  },
  {
   "cell_type": "code",
   "execution_count": 53,
   "id": "44c26a97",
   "metadata": {},
   "outputs": [],
   "source": [
    "cohort_pivot_transactions = cohort_metrics.pivot(\n",
    "    index='month_of_life',       # строка – это месяц жизни когорты\n",
    "    columns='cohort_month',         # столбец – это сама когорта (год-месяц начала)\n",
    "    values='transactions_count'      # какое значение хотим видеть\n",
    ").fillna(0)"
   ]
  },
  {
   "cell_type": "code",
   "execution_count": 54,
   "id": "35bb10c1",
   "metadata": {},
   "outputs": [],
   "source": [
    "cohort_pivot_total_sum = cohort_metrics.pivot(\n",
    "    index='month_of_life',       # строка – это месяц жизни когорты\n",
    "    columns='cohort_month',         # столбец – это сама когорта (год-месяц начала)\n",
    "    values='total_sum'      # какое значение хотим видеть\n",
    ").fillna(0)"
   ]
  },
  {
   "cell_type": "code",
   "execution_count": 55,
   "id": "857afa89",
   "metadata": {},
   "outputs": [],
   "source": [
    "cohort_pivot_avg_check = round(cohort_metrics).pivot(\n",
    "    index='month_of_life',       # строка – это месяц жизни когорты\n",
    "    columns='cohort_month',         # столбец – это сама когорта (год-месяц начала)\n",
    "    values='avg_check'      # какое значение хотим видеть\n",
    ").fillna(0)"
   ]
  },
  {
   "cell_type": "markdown",
   "id": "79cdde06",
   "metadata": {},
   "source": [
    "Готовим данные для проведения анализа retantion_rate и churn_rate"
   ]
  },
  {
   "cell_type": "code",
   "execution_count": 56,
   "id": "4cfa959e",
   "metadata": {},
   "outputs": [],
   "source": [
    "cohort_sizes = (\n",
    "    user_first_tx\n",
    "    .groupby('cohort_month', as_index=False)\n",
    "    .agg(cohort_size=('customer', 'nunique'))  # или count, если customer уже уникален\n",
    ")\n"
   ]
  },
  {
   "cell_type": "code",
   "execution_count": 57,
   "id": "949a47b0",
   "metadata": {},
   "outputs": [],
   "source": [
    "cohort_metrics = cohort_metrics.merge(\n",
    "    cohort_sizes,\n",
    "    on='cohort_month', \n",
    "    how='left'\n",
    ")\n"
   ]
  },
  {
   "cell_type": "code",
   "execution_count": 58,
   "id": "96a13b89",
   "metadata": {},
   "outputs": [],
   "source": [
    "cohort_metrics['retention_rate'] = (\n",
    "    cohort_metrics['active_users'] / cohort_metrics['cohort_size']\n",
    ")\n",
    "cohort_metrics['retention_rate'] = round(cohort_metrics['retention_rate'], 2)"
   ]
  },
  {
   "cell_type": "code",
   "execution_count": 59,
   "id": "1ecb31b3",
   "metadata": {},
   "outputs": [],
   "source": [
    "cohort_metrics['churn_rate'] = (\n",
    "    1 - cohort_metrics['retention_rate']\n",
    ")\n",
    "\n",
    "cohort_metrics['churn_rate'] = round(cohort_metrics['churn_rate'], 2)"
   ]
  },
  {
   "cell_type": "code",
   "execution_count": 60,
   "id": "89db356f",
   "metadata": {},
   "outputs": [],
   "source": [
    "pivot_retention = cohort_metrics.pivot(\n",
    "    index='month_of_life',\n",
    "    columns='cohort_month',\n",
    "    values='retention_rate'\n",
    ").fillna(0)\n"
   ]
  },
  {
   "cell_type": "code",
   "execution_count": 61,
   "id": "687b1cc2",
   "metadata": {},
   "outputs": [],
   "source": [
    "pivot_churn = cohort_metrics.pivot(\n",
    "    index='month_of_life',\n",
    "    columns='cohort_month',\n",
    "    values='churn_rate'\n",
    ").fillna(0)\n"
   ]
  },
  {
   "cell_type": "markdown",
   "id": "7308d7ff",
   "metadata": {},
   "source": [
    "4. Проведение RFM анализа"
   ]
  },
  {
   "cell_type": "code",
   "execution_count": 62,
   "id": "2fe752ca",
   "metadata": {},
   "outputs": [],
   "source": [
    "def prepare_rfm_data(data, analysis_date=None):\n",
    "    \"\"\"\n",
    "    Подготовка данных для RFM-анализа\n",
    "    \n",
    "    Parameters:\n",
    "    -----------\n",
    "    df : pandas.DataFrame\n",
    "        Датафрейм с колонками customer_id, transaction_date, amount\n",
    "    analysis_date : datetime, optional\n",
    "        Дата, относительно которой проводится анализ\n",
    "        \n",
    "    Returns:\n",
    "    --------\n",
    "    pandas.DataFrame\n",
    "        Датафрейм с RFM-метриками для каждого клиента\n",
    "    \"\"\"\n",
    "    if analysis_date is None:\n",
    "        analysis_date = data['action_date'].max()\n",
    "    \n",
    "    # Группировка по клиентам и расчет RFM-метрик\n",
    "    rfm = data.groupby('customer').agg({\n",
    "        'action_date': lambda x: (analysis_date - x.max()).days,  # Recency\n",
    "        'amount_in_rub': ['count', 'sum']  # Frequency & Monetary\n",
    "    }).reset_index()\n",
    "    \n",
    "    # Переименование колонок\n",
    "    rfm.columns = ['customer', 'recency', 'frequency', 'monetary']\n",
    "    \n",
    "    # Обработка выбросов\n",
    "    for column in ['recency', 'frequency', 'monetary']:\n",
    "        q1 = rfm[column].quantile(0.25)\n",
    "        q3 = rfm[column].quantile(0.75)\n",
    "        iqr = q3 - q1\n",
    "        upper_bound = q3 + 1.5 * iqr\n",
    "        rfm[column] = np.where(rfm[column] > upper_bound, upper_bound, rfm[column])\n",
    "    \n",
    "    return rfm\n",
    "\n",
    "# Применяем функцию к нашим данным\n",
    "rfm_data = prepare_rfm_data(data)"
   ]
  },
  {
   "cell_type": "code",
   "execution_count": 63,
   "id": "61948d5a",
   "metadata": {},
   "outputs": [],
   "source": [
    "import pandas as pd\n",
    "\n",
    "def quantile_segmentation(rfm_data, n_segments=3):\n",
    "    \"\"\"\n",
    "    Квантильная сегментация клиентов\n",
    "\n",
    "    Parameters:\n",
    "    -----------\n",
    "    rfm_data : pandas.DataFrame\n",
    "        Датафрейм с RFM-метриками\n",
    "    n_segments : int\n",
    "        Количество сегментов для каждой метрики\n",
    "\n",
    "    Returns:\n",
    "    --------\n",
    "    pandas.DataFrame\n",
    "        Датафрейм с добавленными сегментами\n",
    "    \"\"\"\n",
    "    rfm = rfm_data.copy()\n",
    "\n",
    "    # Функция для безопасного разбиения с учетом количества уникальных значений\n",
    "    def safe_qcut(series, q):\n",
    "        unique_values = series.nunique()\n",
    "        if unique_values < q:\n",
    "            q = unique_values  # Корректируем число квантилей\n",
    "        bins = pd.qcut(series, q=q, duplicates='drop', retbins=True)[1]  # Получаем границы\n",
    "        labels = range(len(bins) - 1, 0, -1)  # Генерируем метки динамически\n",
    "        return pd.qcut(series, q=q, labels=labels, duplicates='drop')\n",
    "\n",
    "    # Применяем квантильную сегментацию с учетом особенностей данных\n",
    "    rfm['R'] = safe_qcut(rfm['recency'], n_segments)\n",
    "    rfm['F'] = safe_qcut(rfm['frequency'], n_segments)\n",
    "    rfm['M'] = safe_qcut(rfm['monetary'], n_segments)\n",
    "\n",
    "    # Создаем RFM Score\n",
    "    rfm['RFM_Score'] = rfm['R'].astype(str) + rfm['F'].astype(str) + rfm['M'].astype(str)\n",
    "\n",
    "    return rfm\n",
    "\n",
    "# Применяем сегментацию\n",
    "rfm_segmented = quantile_segmentation(rfm_data)\n",
    "rfm_segmented = rfm_segmented[~rfm_segmented['RFM_Score'].str.contains('nan', na=False)]\n"
   ]
  },
  {
   "cell_type": "code",
   "execution_count": 64,
   "id": "52250087",
   "metadata": {},
   "outputs": [],
   "source": [
    "def plot_rfm_distributions(rfm_data):\n",
    "    \"\"\"\n",
    "    Визуализация распределения RFM-метрик\n",
    "    \"\"\"\n",
    "    fig, axes = plt.subplots(1, 3, figsize=(15, 5))\n",
    "    fig.suptitle('Распределение RFM-метрик', fontsize=14)\n",
    "    \n",
    "    # Recency\n",
    "    sns.histplot(data=rfm_data, x='recency', bins=30, ax=axes[0])\n",
    "    axes[0].set_title('Распределение Recency')\n",
    "    axes[0].set_xlabel('Дни с последней покупки')\n",
    "    \n",
    "    # Frequency\n",
    "    sns.histplot(data=rfm_data, x='frequency', bins=30, ax=axes[1])\n",
    "    axes[1].set_title('Распределение Frequency')\n",
    "    axes[1].set_xlabel('Количество покупок')\n",
    "    \n",
    "    # Monetary\n",
    "    sns.histplot(data=rfm_data, x='monetary', bins=30, ax=axes[2])\n",
    "    axes[2].set_title('Распределение Monetary')\n",
    "    axes[2].set_xlabel('Общая сумма покупок')\n",
    "    \n",
    "    plt.tight_layout()\n",
    "    return fig\n",
    "\n",
    "# Создаем визуализацию\n",
    "rfm_dist_plot = plot_rfm_distributions(rfm_data)"
   ]
  },
  {
   "cell_type": "markdown",
   "id": "ff53afc0",
   "metadata": {},
   "source": [
    "5. Вычисление DAU, WAU, sticky \n"
   ]
  },
  {
   "cell_type": "code",
   "execution_count": 65,
   "id": "9d293d98",
   "metadata": {},
   "outputs": [],
   "source": [
    "dau_total = (\n",
    "    data.groupby('action_date').agg({'customer': 'nunique'}).mean()\n",
    ")\n",
    "\n",
    "mau_total = (\n",
    "    data.groupby(['action_date_month', 'action_date_year'])\n",
    "    .agg({'customer': 'nunique'})\n",
    "    .mean()\n",
    ")\n",
    "\n",
    "\n",
    "wau_total = (\n",
    "    data.groupby(['action_date_week'])\n",
    "    .agg({'customer': 'nunique'})\n",
    "    .mean()\n",
    ")\n",
    "\n"
   ]
  },
  {
   "cell_type": "code",
   "execution_count": 66,
   "id": "cd187eac",
   "metadata": {},
   "outputs": [
    {
     "name": "stderr",
     "output_type": "stream",
     "text": [
      "C:\\Users\\user\\AppData\\Local\\Temp\\ipykernel_8044\\2701938052.py:1: FutureWarning: Calling int on a single element Series is deprecated and will raise a TypeError in the future. Use int(ser.iloc[0]) instead\n",
      "  dau_total = int(dau_total)\n"
     ]
    }
   ],
   "source": [
    "dau_total = int(dau_total)"
   ]
  },
  {
   "cell_type": "code",
   "execution_count": 67,
   "id": "0fdd858a",
   "metadata": {},
   "outputs": [
    {
     "name": "stderr",
     "output_type": "stream",
     "text": [
      "C:\\Users\\user\\AppData\\Local\\Temp\\ipykernel_8044\\118994206.py:1: FutureWarning: Calling int on a single element Series is deprecated and will raise a TypeError in the future. Use int(ser.iloc[0]) instead\n",
      "  wau_total = int(wau_total)\n"
     ]
    }
   ],
   "source": [
    "wau_total = int(wau_total)"
   ]
  },
  {
   "cell_type": "code",
   "execution_count": 68,
   "id": "8acbd41a",
   "metadata": {},
   "outputs": [
    {
     "name": "stderr",
     "output_type": "stream",
     "text": [
      "C:\\Users\\user\\AppData\\Local\\Temp\\ipykernel_8044\\3225192726.py:1: FutureWarning: Calling int on a single element Series is deprecated and will raise a TypeError in the future. Use int(ser.iloc[0]) instead\n",
      "  mau_total = int(mau_total)\n"
     ]
    }
   ],
   "source": [
    "mau_total = int(mau_total)"
   ]
  },
  {
   "cell_type": "code",
   "execution_count": 69,
   "id": "bfdbb8ef",
   "metadata": {},
   "outputs": [],
   "source": [
    "wau_total = int(wau_total)"
   ]
  },
  {
   "cell_type": "code",
   "execution_count": 70,
   "id": "60f275ee",
   "metadata": {},
   "outputs": [],
   "source": [
    "sticky  = (dau_total / wau_total * 100)"
   ]
  },
  {
   "cell_type": "markdown",
   "id": "0038e75a",
   "metadata": {},
   "source": [
    "Ссылка на дашборд"
   ]
  },
  {
   "cell_type": "markdown",
   "id": "a10df8a9",
   "metadata": {},
   "source": [
    "https://rozhkov1922-work-expe-simple-thingssimple-things-rozhkov-zjgdq9.streamlit.app/ "
   ]
  }
 ],
 "metadata": {
  "kernelspec": {
   "display_name": "Python 3 (ipykernel)",
   "language": "python",
   "name": "python3"
  },
  "language_info": {
   "codemirror_mode": {
    "name": "ipython",
    "version": 3
   },
   "file_extension": ".py",
   "mimetype": "text/x-python",
   "name": "python",
   "nbconvert_exporter": "python",
   "pygments_lexer": "ipython3",
   "version": "3.9.13"
  }
 },
 "nbformat": 4,
 "nbformat_minor": 5
}
